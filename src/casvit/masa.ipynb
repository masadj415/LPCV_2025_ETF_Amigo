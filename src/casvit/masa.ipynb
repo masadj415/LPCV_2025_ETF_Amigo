{
 "cells": [
  {
   "cell_type": "code",
   "execution_count": 5,
   "metadata": {},
   "outputs": [
    {
     "name": "stdout",
     "output_type": "stream",
     "text": [
      "Converted DALL·E 2025-03-11 14.11.48 - A pedestal sink_ A classic white pedestal sink with a tall base, placed in a small bathroom with elegant tile flooring and a round mirror above it.webp to /home/centar15-desktop1/Downloads/DALL·E 2025-03-11 14.11.48 - A pedestal sink_ A classic white pedestal sink with a tall base, placed in a small bathroom with elegant tile flooring and a round mirror above it.jpg\n",
      "Converted DALL·E 2025-03-11 14.15.35 - A realistic kitchen sink made of stainless steel with running water. The sink is built into a wooden countertop in a modern, cozy kitchen. Water flows.webp to /home/centar15-desktop1/Downloads/DALL·E 2025-03-11 14.15.35 - A realistic kitchen sink made of stainless steel with running water. The sink is built into a wooden countertop in a modern, cozy kitchen. Water flows.jpg\n",
      "Converted DALL·E 2025-03-11 14.03.33 - A Bohemian-style bathroom sink with a colorful mosaic ceramic basin, set on a rustic wooden countertop. The background features plants, woven baskets,.webp to /home/centar15-desktop1/Downloads/DALL·E 2025-03-11 14.03.33 - A Bohemian-style bathroom sink with a colorful mosaic ceramic basin, set on a rustic wooden countertop. The background features plants, woven baskets,.jpg\n",
      "Converted DALL·E 2025-03-11 14.16.21 - A realistic kitchen sink made of beautifully crafted ceramic with blue and green patterns. The sink is built into a wooden countertop in a modern, coz.webp to /home/centar15-desktop1/Downloads/DALL·E 2025-03-11 14.16.21 - A realistic kitchen sink made of beautifully crafted ceramic with blue and green patterns. The sink is built into a wooden countertop in a modern, coz.jpg\n",
      "Converted DALL·E 2025-03-11 14.00.52 - 1. A modern bathroom sink with a sleek white ceramic basin, set on a floating wooden vanity with ambient LED lighting. The bathroom features a minimal.webp to /home/centar15-desktop1/Downloads/DALL·E 2025-03-11 14.00.52 - 1. A modern bathroom sink with a sleek white ceramic basin, set on a floating wooden vanity with ambient LED lighting. The bathroom features a minimal.jpg\n",
      "Converted DALL·E 2025-03-11 14.12.11 - A wall-mounted sink_ A minimalist wall-mounted sink in a compact bathroom, featuring a floating design with no cabinet underneath and a sleek chrome f.webp to /home/centar15-desktop1/Downloads/DALL·E 2025-03-11 14.12.11 - A wall-mounted sink_ A minimalist wall-mounted sink in a compact bathroom, featuring a floating design with no cabinet underneath and a sleek chrome f.jpg\n",
      "Converted DALL·E 2025-03-11 14.11.31 - A farmhouse sink_ A large, deep apron-front sink made of white porcelain, set in a rustic country-style kitchen with wooden countertops and vintage-st.webp to /home/centar15-desktop1/Downloads/DALL·E 2025-03-11 14.11.31 - A farmhouse sink_ A large, deep apron-front sink made of white porcelain, set in a rustic country-style kitchen with wooden countertops and vintage-st.jpg\n",
      "Converted DALL·E 2025-03-11 14.05.12 - A stylish bathroom sink with a white ceramic basin, set against a backdrop of soft pink tiles. The countertop is made of white marble, and the sink fe.webp to /home/centar15-desktop1/Downloads/DALL·E 2025-03-11 14.05.12 - A stylish bathroom sink with a white ceramic basin, set against a backdrop of soft pink tiles. The countertop is made of white marble, and the sink fe.jpg\n",
      "Converted DALL·E 2025-03-11 14.03.12 - An Art Deco bathroom sink with a geometric black and gold basin, mounted on a luxurious marble countertop. The background includes bold patterned wall.webp to /home/centar15-desktop1/Downloads/DALL·E 2025-03-11 14.03.12 - An Art Deco bathroom sink with a geometric black and gold basin, mounted on a luxurious marble countertop. The background includes bold patterned wall.jpg\n",
      "Converted DALL·E 2025-03-11 14.01.56 - 1. A Scandinavian-style bathroom sink with a sleek white ceramic basin, light wood vanity, and soft neutral tones. The background features a round mir.webp to /home/centar15-desktop1/Downloads/DALL·E 2025-03-11 14.01.56 - 1. A Scandinavian-style bathroom sink with a sleek white ceramic basin, light wood vanity, and soft neutral tones. The background features a round mir.jpg\n",
      "Converted DALL·E 2025-03-11 14.04.21 - A modern bathroom sink with a sleek white ceramic basin, mounted on a floating glass countertop. The background features a minimalist design with a fr.webp to /home/centar15-desktop1/Downloads/DALL·E 2025-03-11 14.04.21 - A modern bathroom sink with a sleek white ceramic basin, mounted on a floating glass countertop. The background features a minimalist design with a fr.jpg\n",
      "Converted DALL·E 2025-03-11 14.12.05 - A vessel sink_ A decorative glass vessel sink sitting on top of a wooden vanity, with a modern waterfall faucet and soft ambient lighting.webp to /home/centar15-desktop1/Downloads/DALL·E 2025-03-11 14.12.05 - A vessel sink_ A decorative glass vessel sink sitting on top of a wooden vanity, with a modern waterfall faucet and soft ambient lighting.jpg\n"
     ]
    }
   ],
   "source": [
    "import os\n",
    "from PIL import Image\n",
    "\n",
    "# Set the path to your Downloads directory\n",
    "downloads_path = os.path.abspath(\"/home/centar15-desktop1/Downloads\")\n",
    "\n",
    "# Loop through all files in the directory\n",
    "for filename in os.listdir(downloads_path):\n",
    "    if filename.endswith(\".webp\"):\n",
    "        webp_path = os.path.join(downloads_path, filename)\n",
    "        jpg_path = os.path.join(downloads_path, f\"{os.path.splitext(filename)[0]}.jpg\")\n",
    "        \n",
    "        # Open, convert and save the image\n",
    "        im = Image.open(webp_path).convert(\"RGB\")\n",
    "        im.save(jpg_path, \"jpeg\")\n",
    "        print(f\"Converted {filename} to {jpg_path}\")\n"
   ]
  }
 ],
 "metadata": {
  "kernelspec": {
   "display_name": ".venv",
   "language": "python",
   "name": "python3"
  },
  "language_info": {
   "codemirror_mode": {
    "name": "ipython",
    "version": 3
   },
   "file_extension": ".py",
   "mimetype": "text/x-python",
   "name": "python",
   "nbconvert_exporter": "python",
   "pygments_lexer": "ipython3",
   "version": "3.12.3"
  }
 },
 "nbformat": 4,
 "nbformat_minor": 2
}
